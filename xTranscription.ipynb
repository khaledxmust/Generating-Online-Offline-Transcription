{
 "cells": [
  {
   "cell_type": "code",
   "execution_count": 1,
   "metadata": {},
   "outputs": [],
   "source": [
    "import os \n",
    "#import audioop\n",
    "import subprocess\n",
    "import speech_recognition as sr\n",
    "#from at16k.api import SpeechToText\n",
    "from auditok import split, AudioRegion"
   ]
  },
  {
   "cell_type": "markdown",
   "metadata": {},
   "source": [
    "### 1. Online Transcription (Google API)"
   ]
  },
  {
   "cell_type": "code",
   "execution_count": 4,
   "metadata": {},
   "outputs": [],
   "source": [
    "def CreateSentences(path): \n",
    "    \n",
    "    #PreProcessing\n",
    "    Audio = AudioRegion.load(path) \n",
    "\n",
    "    Sentences = open(\"recognized.txt\", \"w+\") \n",
    "    \n",
    "    Data = audioop.tomono(bytes(Audio), Audio.sample_width, 0.5, 0.5)\n",
    "    \n",
    "    region_mono = AudioRegion(Data, sample_width=Audio.sw, sampling_rate=Audio.sr, channels=1)\n",
    "    \n",
    "    regions = region_mono.split(energy_threshold=50, use_channel='mix', min_dur=1, max_dur=15, max_silence = 0.25) \n",
    "    \n",
    "    #Extract pauses\n",
    "    onset = 0\n",
    "    pauses = []\n",
    "    speeches, NewSpeeches = [], []\n",
    "    for r in regions:\n",
    "        if onset < r.meta.start:\n",
    "            pauses.append((onset, r.meta.start))\n",
    "            onset = r.meta.end\n",
    "        speeches.append(r)\n",
    "\n",
    "    #Last pause if there exists\n",
    "    if onset < Audio.duration:\n",
    "        pauses.append((onset, Audio.duration))\n",
    "\n",
    "    silence = []\n",
    "    for pause in pauses:\n",
    "        silence.append(Audio.seconds[pause[0]:pause[1]])\n",
    "        \n",
    "    #Setting 15 Sec limitation\n",
    "    i = 0\n",
    "    max_limit = 15\n",
    "    while i < len(speeches):\n",
    "        sound = speeches[i]\n",
    "        while i < len(speeches)-1 and sound.duration + speeches[i+1].duration < max_limit:\n",
    "            i += 1\n",
    "            sound += speeches[i]\n",
    "        else:\n",
    "            i+=1\n",
    "        NewSpeeches.append(sound)\n",
    "\n",
    "  \n",
    "    i = 0\n",
    "    #Speech Recognition\n",
    "    print('Found {0} Audio Sentences: '.format(len(NewSpeeches)))\n",
    "    for speech in NewSpeeches: \n",
    "      \n",
    "        print(\"Processing Speech \" + str(i), end=\"\\r\") \n",
    "    \n",
    "        r = sr.Recognizer() \n",
    "\n",
    "        audio_listened = sr.AudioData(bytes(NewSpeeches[i]), NewSpeeches[i].sr, NewSpeeches[i].sample_width)\n",
    "  \n",
    "        try: \n",
    "            rec = r.recognize_google(audio_listened) \n",
    "            Sentences.write(rec+\". \") \n",
    "  \n",
    "        except sr.UnknownValueError: \n",
    "            print(\"Could not understand audio\") \n",
    "  \n",
    "        except sr.RequestError as e: \n",
    "            print(\"Could not request results. check your internet connection\") \n",
    "  \n",
    "        i += 1\n",
    "  \n",
    "    Sentences.close()\n",
    "    print('Audio Sentences processed: ', len(NewSpeeches))"
   ]
  },
  {
   "cell_type": "code",
   "execution_count": 21,
   "metadata": {},
   "outputs": [
    {
     "name": "stdout",
     "output_type": "stream",
     "text": [
      "Enter the audio file path\n",
      "ng.wav\n",
      "Found 33 Audio Sentences: \n",
      "Audio Sentences processed:  33\n"
     ]
    }
   ],
   "source": [
    "print('Enter the audio file path') \n",
    "path = input()\n",
    "CreateSentences(path)"
   ]
  },
  {
   "cell_type": "markdown",
   "metadata": {},
   "source": [
    "### 1. Offline Transcription (at16k Model)"
   ]
  },
  {
   "cell_type": "code",
   "execution_count": 7,
   "metadata": {},
   "outputs": [],
   "source": [
    "def xCreateSentences(path): \n",
    "    \n",
    "    #PreProcessing\n",
    "    Convert = SpeechToText('en_8k')\n",
    "    \n",
    "    subprocess.call(['ffmpeg', '-i', path, '-ar', '8000', '-ac', '1', '-ab', '16', 'Output.wav'])\n",
    "\n",
    "    Audio = AudioRegion.load('Output.wav') \n",
    "\n",
    "    Sentences = open(\"recognized.txt\", \"w+\") \n",
    "    \n",
    "    regions = Audio.split(energy_threshold=50, use_channel='mix', min_dur=1, max_dur=15, max_silence = 0.25) \n",
    "    \n",
    "    #Extract pauses\n",
    "    onset = 0\n",
    "    pauses = []\n",
    "    speeches, NewSpeeches = [], []\n",
    "    for r in regions:\n",
    "        if onset < r.meta.start:\n",
    "            pauses.append((onset, r.meta.start))\n",
    "            onset = r.meta.end\n",
    "        speeches.append(r)\n",
    "\n",
    "    #Last pause if there exists\n",
    "    if onset < Audio.duration:\n",
    "        pauses.append((onset, Audio.duration))\n",
    "\n",
    "    silence = []\n",
    "    for pause in pauses:\n",
    "        silence.append(Audio.seconds[pause[0]:pause[1]])\n",
    "        \n",
    "    #Setting 15 Sec limitation\n",
    "    i = 0\n",
    "    max_limit = 15\n",
    "    while i < len(speeches):\n",
    "        sound = speeches[i]\n",
    "        while i < len(speeches)-1 and sound.duration + speeches[i+1].duration < max_limit:\n",
    "            i += 1\n",
    "            sound += speeches[i]\n",
    "        else:\n",
    "            i+=1\n",
    "        NewSpeeches.append(sound)\n",
    "\n",
    "  \n",
    "    i = 0\n",
    "    #Speech Recognition\n",
    "    print('Found {0} Audio Sentences: '.format(len(NewSpeeches)))\n",
    "    for speech in NewSpeeches: \n",
    "      \n",
    "        print(\"Processing Speech \" + str(i), end=\"\\r\") \n",
    "        \n",
    "        speech.save('Speech '+str(i)+'.wav')\n",
    "        \n",
    "        Text = Convert('Speech '+str(i)+'.wav')\n",
    " \n",
    "        rec = Text['text']\n",
    "    \n",
    "        Sentences.write(rec+\". \") \n",
    "        \n",
    "        os.remove('Speech '+str(i)+'.wav')\n",
    "  \n",
    "        i += 1\n",
    "    os.remove('Output.wav')\n",
    "    Sentences.close()\n",
    "    print('Audio Sentences processed: ', len(NewSpeeches))"
   ]
  },
  {
   "cell_type": "code",
   "execution_count": 8,
   "metadata": {},
   "outputs": [
    {
     "name": "stdout",
     "output_type": "stream",
     "text": [
      "Enter the audio file path\n",
      "ng.wav\n",
      "WARNING:tensorflow:\n",
      "The TensorFlow contrib module will not be included in TensorFlow 2.0.\n",
      "For more information, please see:\n",
      "  * https://github.com/tensorflow/community/blob/master/rfcs/20180907-contrib-sunset.md\n",
      "  * https://github.com/tensorflow/addons\n",
      "  * https://github.com/tensorflow/io (for I/O related ops)\n",
      "If you depend on functionality not listed there, please file an issue.\n",
      "\n",
      "WARNING:tensorflow:From C:\\Users\\khled\\Anaconda3\\envs\\numpy\\lib\\site-packages\\tensorflow\\contrib\\predictor\\saved_model_predictor.py:153: load (from tensorflow.python.saved_model.loader_impl) is deprecated and will be removed in a future version.\n",
      "Instructions for updating:\n",
      "This function will only be available through the v1 compatibility library as tf.compat.v1.saved_model.loader.load or tf.compat.v1.saved_model.load. There will be a new function for importing SavedModels in Tensorflow 2.0.\n",
      "WARNING:tensorflow:From C:\\Users\\khled\\Anaconda3\\envs\\numpy\\lib\\site-packages\\tensorflow\\python\\training\\saver.py:1276: checkpoint_exists (from tensorflow.python.training.checkpoint_management) is deprecated and will be removed in a future version.\n",
      "Instructions for updating:\n",
      "Use standard file APIs to check for files with this prefix.\n",
      "INFO:tensorflow:Restoring parameters from C:\\Users\\khled\\.at16k\\en_8k\\export\\1569649891\\variables\\variables\n",
      "Found 31 Audio Sentences: \n",
      "Audio Sentences processed:  31\n"
     ]
    }
   ],
   "source": [
    "print('Enter the audio file path') \n",
    "path = str(input())\n",
    "xCreateSentences(path)"
   ]
  },
  {
   "cell_type": "code",
   "execution_count": null,
   "metadata": {},
   "outputs": [],
   "source": []
  }
 ],
 "metadata": {
  "kernelspec": {
   "display_name": "Python 3",
   "language": "python",
   "name": "python3"
  },
  "language_info": {
   "codemirror_mode": {
    "name": "ipython",
    "version": 3
   },
   "file_extension": ".py",
   "mimetype": "text/x-python",
   "name": "python",
   "nbconvert_exporter": "python",
   "pygments_lexer": "ipython3",
   "version": "3.7.4"
  }
 },
 "nbformat": 4,
 "nbformat_minor": 2
}
